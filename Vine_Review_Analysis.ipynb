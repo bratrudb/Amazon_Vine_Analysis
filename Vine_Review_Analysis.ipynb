{
  "nbformat": 4,
  "nbformat_minor": 0,
  "metadata": {
    "colab": {
      "name": "Vine_Review_Analysis.ipynb",
      "provenance": []
    },
    "kernelspec": {
      "name": "python3",
      "display_name": "Python 3"
    },
    "language_info": {
      "name": "python"
    }
  },
  "cells": [
    {
      "cell_type": "code",
      "execution_count": 1,
      "metadata": {
        "colab": {
          "base_uri": "https://localhost:8080/"
        },
        "id": "bRTKyBDqUcAc",
        "outputId": "86c0c4bb-9bfb-49c9-986f-7ca5d79fae04"
      },
      "outputs": [
        {
          "output_type": "stream",
          "name": "stdout",
          "text": [
            "\r0% [Working]\r            \rHit:1 https://cloud.r-project.org/bin/linux/ubuntu bionic-cran40/ InRelease\n",
            "Ign:2 https://developer.download.nvidia.com/compute/cuda/repos/ubuntu1804/x86_64  InRelease\n",
            "Hit:3 http://archive.ubuntu.com/ubuntu bionic InRelease\n",
            "Hit:4 http://ppa.launchpad.net/c2d4u.team/c2d4u4.0+/ubuntu bionic InRelease\n",
            "Get:5 http://security.ubuntu.com/ubuntu bionic-security InRelease [88.7 kB]\n",
            "Get:6 http://archive.ubuntu.com/ubuntu bionic-updates InRelease [88.7 kB]\n",
            "Ign:7 https://developer.download.nvidia.com/compute/machine-learning/repos/ubuntu1804/x86_64  InRelease\n",
            "Hit:8 https://developer.download.nvidia.com/compute/cuda/repos/ubuntu1804/x86_64  Release\n",
            "Hit:9 https://developer.download.nvidia.com/compute/machine-learning/repos/ubuntu1804/x86_64  Release\n",
            "Hit:10 http://ppa.launchpad.net/cran/libgit2/ubuntu bionic InRelease\n",
            "Hit:11 http://ppa.launchpad.net/deadsnakes/ppa/ubuntu bionic InRelease\n",
            "Get:12 http://archive.ubuntu.com/ubuntu bionic-backports InRelease [74.6 kB]\n",
            "Hit:13 http://ppa.launchpad.net/graphics-drivers/ppa/ubuntu bionic InRelease\n",
            "Fetched 252 kB in 3s (97.3 kB/s)\n",
            "Reading package lists... Done\n"
          ]
        }
      ],
      "source": [
        "import os\n",
        "# Find the latest version of spark 3.0 from http://www.apache.org/dist/spark/ and enter as the spark version\n",
        "# For example:\n",
        "# spark_version = 'spark-3.0.3'\n",
        "spark_version = 'spark-3.0.3'\n",
        "os.environ['SPARK_VERSION']=spark_version\n",
        "\n",
        "# Install Spark and Java\n",
        "!apt-get update\n",
        "!apt-get install openjdk-11-jdk-headless -qq > /dev/null\n",
        "!wget -q http://www.apache.org/dist/spark/$SPARK_VERSION/$SPARK_VERSION-bin-hadoop2.7.tgz\n",
        "!tar xf $SPARK_VERSION-bin-hadoop2.7.tgz\n",
        "!pip install -q findspark\n",
        "\n",
        "# Set Environment Variables\n",
        "import os\n",
        "os.environ[\"JAVA_HOME\"] = \"/usr/lib/jvm/java-11-openjdk-amd64\"\n",
        "os.environ[\"SPARK_HOME\"] = f\"/content/{spark_version}-bin-hadoop2.7\"\n",
        "\n",
        "# Start a SparkSession\n",
        "import findspark\n",
        "findspark.init()"
      ]
    },
    {
      "cell_type": "code",
      "source": [
        "from pyspark.sql import SparkSession\n",
        "spark = SparkSession.builder.appName(\"vine_filter\").getOrCreate()"
      ],
      "metadata": {
        "id": "yb2bOzGkUqpn"
      },
      "execution_count": 2,
      "outputs": []
    },
    {
      "cell_type": "code",
      "source": [
        "from pyspark import SparkFiles\n",
        "url = \"https://s3.amazonaws.com/amazon-reviews-pds/tsv/amazon_reviews_us_Books_v1_02.tsv.gz\"\n",
        "spark.sparkContext.addFile(url)\n",
        "df = spark.read.option(\"encoding\", \"UTF-8\").csv(SparkFiles.get(\"\"), sep=\"\\t\", header=True, inferSchema=True)\n",
        "df.show()"
      ],
      "metadata": {
        "colab": {
          "base_uri": "https://localhost:8080/"
        },
        "id": "4gxJfC_kUwTn",
        "outputId": "b1349c7c-26e6-4171-d982-c44c5b37adca"
      },
      "execution_count": 3,
      "outputs": [
        {
          "output_type": "stream",
          "name": "stdout",
          "text": [
            "+-----------+-----------+--------------+----------+--------------+--------------------+----------------+-----------+-------------+-----------+----+-----------------+--------------------+--------------------+-----------+\n",
            "|marketplace|customer_id|     review_id|product_id|product_parent|       product_title|product_category|star_rating|helpful_votes|total_votes|vine|verified_purchase|     review_headline|         review_body|review_date|\n",
            "+-----------+-----------+--------------+----------+--------------+--------------------+----------------+-----------+-------------+-----------+----+-----------------+--------------------+--------------------+-----------+\n",
            "|         US|   12076615| RQ58W7SMO911M|0385730586|     122662979|Sisterhood of the...|           Books|          4|            2|          3|   N|                N|this book was a g...|this boook was a ...| 2005-10-14|\n",
            "|         US|   12703090|  RF6IUKMGL8SF|0811828964|      56191234|The Bad Girl's Gu...|           Books|          3|            5|          5|   N|                N|           Fun Fluff|If you are lookin...| 2005-10-14|\n",
            "|         US|   12257412|R1DOSHH6AI622S|1844161560|     253182049|Eisenhorn (A Warh...|           Books|          4|            1|         22|   N|                N| this isn't a review|never read it-a y...| 2005-10-14|\n",
            "|         US|   50732546| RATOTLA3OF70O|0373836635|     348672532|Colby Conspiracy ...|           Books|          5|            2|          2|   N|                N|fine author on he...|Though she is hon...| 2005-10-14|\n",
            "|         US|   51964897|R1TNWRKIVHVYOV|0262181533|     598678717|The Psychology of...|           Books|          4|            0|          2|   N|                N|Execellent cursor...|Review based on a...| 2005-10-14|\n",
            "|         US|   31048862|R2F53LI9KK9MOY|0316769487|     862964341|The Catcher in th...|           Books|          4|            2|          2|   N|                N|   Interesting, fun.|My only complaint...| 2005-10-14|\n",
            "|         US|   53000124|R1KJ6MB7MRSQFF|0805076069|     145341889|Bait and Switch: ...|           Books|          4|            9|         11|   N|                N|I viewed this the...|This book is chil...| 2005-10-14|\n",
            "|         US|   29732693|R2XIM9LT335WHE|1581603681|     640542054|Opening Combinati...|           Books|          4|            3|         10|   N|                N|No Frills - Just ...|When looking for ...| 2005-10-14|\n",
            "|         US|   48541186|R1VE0FQQ0QTQJN|0300108834|     915891133|A Little History ...|           Books|          5|           16|         20|   N|                Y|Simple, entertain...|Never been much f...| 2005-10-14|\n",
            "|         US|   15280864|R1VKEE2NWSWDRU|0446531081|     880645124|Hour Game (King &...|           Books|          4|            0|          0|   N|                N|        A good read!|If you enjoy a we...| 2005-10-14|\n",
            "|         US|   24209213|R2UP6XSVYJBJ2H|0976822105|     731931430|     Faith is a Verb|           Books|          5|            0|          0|   N|                N|Made me Question ...|I thoroughly enjo...| 2005-10-14|\n",
            "|         US|   52253037|R21SYDQ70ILUC0|1580085695|     586052746|Furry Logic: A Gu...|           Books|          5|            1|          1|   N|                Y|    The Perfect Gift|If you are stumpe...| 2005-10-14|\n",
            "|         US|   27925116| R7M06Z88PD7SX|0029148510|      72387289|Acts of War: Beha...|           Books|          4|           14|         14|   N|                N|Solid Book About ...|Whether intention...| 2005-10-14|\n",
            "|         US|   15005044| RRS38KZ4WB5O2|1592285570|     702385650|Temple to the Win...|           Books|          5|            1|          1|   N|                N|A riveting accoun...|Temple to the win...| 2005-10-14|\n",
            "|         US|   52534781|R2YDYRSLGNHPHR|0811848833|     102333549|The Star Wars Pos...|           Books|          4|           16|         19|   N|                Y|Comprehensive vis...|At last... a comp...| 2005-10-14|\n",
            "|         US|   26217071|R1BMPM18O6VZOR|0782144276|     971452783|Photoshop for Nat...|           Books|          4|           13|         14|   N|                N|          Great Book|I find \\\\\"Photosh...| 2005-10-14|\n",
            "|         US|   37684582|R1AABFZH0J0C0C|0375757996|     760991156|The Basic Works o...|           Books|          3|           17|         35|   N|                N|Problems with thi...|I love Aristotle ...| 2005-10-14|\n",
            "|         US|   45232107|R3SJYLG07EHNE9|013146308X|     332774292|The Pterosaurs: F...|           Books|          2|           16|         34|   N|                N|Warmed over lefto...|To his discredit,...| 2005-10-14|\n",
            "|         US|   15437121|R2TIO43ND87XVO|0375701907|     635714194|Straight Man: A N...|           Books|          5|            1|          1|   N|                N|       Funniest Book|Hands down, the f...| 2005-10-14|\n",
            "|         US|   52157117|R18TY4WD19OUAO|141378240X|     656010659|   Lipstick's Legacy|           Books|          5|            1|          1|   N|                N|          Great Work|I read this book ...| 2005-10-14|\n",
            "+-----------+-----------+--------------+----------+--------------+--------------------+----------------+-----------+-------------+-----------+----+-----------------+--------------------+--------------------+-----------+\n",
            "only showing top 20 rows\n",
            "\n"
          ]
        }
      ]
    },
    {
      "cell_type": "code",
      "source": [
        "# Create the vine_table. DataFrame\n",
        "vine_df = df.select([\"review_id\", \"star_rating\", \"helpful_votes\", \"total_votes\", \"vine\", \"verified_purchase\"])\n",
        "vine_df.show()"
      ],
      "metadata": {
        "colab": {
          "base_uri": "https://localhost:8080/"
        },
        "id": "D_Wm-kdCU75d",
        "outputId": "b192765d-e614-44ed-e5c2-409d4dd43134"
      },
      "execution_count": 4,
      "outputs": [
        {
          "output_type": "stream",
          "name": "stdout",
          "text": [
            "+--------------+-----------+-------------+-----------+----+-----------------+\n",
            "|     review_id|star_rating|helpful_votes|total_votes|vine|verified_purchase|\n",
            "+--------------+-----------+-------------+-----------+----+-----------------+\n",
            "| RQ58W7SMO911M|          4|            2|          3|   N|                N|\n",
            "|  RF6IUKMGL8SF|          3|            5|          5|   N|                N|\n",
            "|R1DOSHH6AI622S|          4|            1|         22|   N|                N|\n",
            "| RATOTLA3OF70O|          5|            2|          2|   N|                N|\n",
            "|R1TNWRKIVHVYOV|          4|            0|          2|   N|                N|\n",
            "|R2F53LI9KK9MOY|          4|            2|          2|   N|                N|\n",
            "|R1KJ6MB7MRSQFF|          4|            9|         11|   N|                N|\n",
            "|R2XIM9LT335WHE|          4|            3|         10|   N|                N|\n",
            "|R1VE0FQQ0QTQJN|          5|           16|         20|   N|                Y|\n",
            "|R1VKEE2NWSWDRU|          4|            0|          0|   N|                N|\n",
            "|R2UP6XSVYJBJ2H|          5|            0|          0|   N|                N|\n",
            "|R21SYDQ70ILUC0|          5|            1|          1|   N|                Y|\n",
            "| R7M06Z88PD7SX|          4|           14|         14|   N|                N|\n",
            "| RRS38KZ4WB5O2|          5|            1|          1|   N|                N|\n",
            "|R2YDYRSLGNHPHR|          4|           16|         19|   N|                Y|\n",
            "|R1BMPM18O6VZOR|          4|           13|         14|   N|                N|\n",
            "|R1AABFZH0J0C0C|          3|           17|         35|   N|                N|\n",
            "|R3SJYLG07EHNE9|          2|           16|         34|   N|                N|\n",
            "|R2TIO43ND87XVO|          5|            1|          1|   N|                N|\n",
            "|R18TY4WD19OUAO|          5|            1|          1|   N|                N|\n",
            "+--------------+-----------+-------------+-----------+----+-----------------+\n",
            "only showing top 20 rows\n",
            "\n"
          ]
        }
      ]
    },
    {
      "cell_type": "code",
      "source": [
        "# Establish percent helpful\n",
        "helpful_df = vine_df.withColumn(\"percent_helpful\", (vine_df['helpful_votes'] / vine_df['total_votes'])*100).filter(\"percent_helpful>50\")\n",
        "helpful_df.show()"
      ],
      "metadata": {
        "colab": {
          "base_uri": "https://localhost:8080/"
        },
        "id": "JKjF-l0klKhT",
        "outputId": "9eed8ecd-d289-4050-a879-769f58a57291"
      },
      "execution_count": 26,
      "outputs": [
        {
          "output_type": "stream",
          "name": "stdout",
          "text": [
            "+--------------+-----------+-------------+-----------+----+-----------------+-----------------+\n",
            "|     review_id|star_rating|helpful_votes|total_votes|vine|verified_purchase|  percent_helpful|\n",
            "+--------------+-----------+-------------+-----------+----+-----------------+-----------------+\n",
            "| RQ58W7SMO911M|          4|            2|          3|   N|                N|66.66666666666666|\n",
            "|  RF6IUKMGL8SF|          3|            5|          5|   N|                N|            100.0|\n",
            "| RATOTLA3OF70O|          5|            2|          2|   N|                N|            100.0|\n",
            "|R2F53LI9KK9MOY|          4|            2|          2|   N|                N|            100.0|\n",
            "|R1KJ6MB7MRSQFF|          4|            9|         11|   N|                N|81.81818181818183|\n",
            "|R1VE0FQQ0QTQJN|          5|           16|         20|   N|                Y|             80.0|\n",
            "|R21SYDQ70ILUC0|          5|            1|          1|   N|                Y|            100.0|\n",
            "| R7M06Z88PD7SX|          4|           14|         14|   N|                N|            100.0|\n",
            "| RRS38KZ4WB5O2|          5|            1|          1|   N|                N|            100.0|\n",
            "|R2YDYRSLGNHPHR|          4|           16|         19|   N|                Y|84.21052631578947|\n",
            "|R1BMPM18O6VZOR|          4|           13|         14|   N|                N|92.85714285714286|\n",
            "|R2TIO43ND87XVO|          5|            1|          1|   N|                N|            100.0|\n",
            "|R18TY4WD19OUAO|          5|            1|          1|   N|                N|            100.0|\n",
            "|R3CFYTUA9JI8B5|          5|            5|          6|   N|                N|83.33333333333334|\n",
            "|R3MD5TZJGIPTDU|          5|           21|         31|   N|                N|67.74193548387096|\n",
            "|R1BE1JTJ1SPN4T|          5|           11|         12|   N|                N|91.66666666666666|\n",
            "|R3RH7EP0VMG095|          5|           10|         12|   N|                N|83.33333333333334|\n",
            "|R10F27Y6VE2YLQ|          4|           12|         14|   N|                N|85.71428571428571|\n",
            "|R2W8C8DO33WTMP|          4|            6|          7|   N|                N|85.71428571428571|\n",
            "| RX6OWUF8EFZ72|          5|           27|         28|   N|                N|96.42857142857143|\n",
            "+--------------+-----------+-------------+-----------+----+-----------------+-----------------+\n",
            "only showing top 20 rows\n",
            "\n"
          ]
        }
      ]
    },
    {
      "cell_type": "code",
      "source": [
        "# Filter total_votes column if >= 20\n",
        "filtered_vine_df = helpful_df.filter(\"total_votes>=20\")\n",
        "filtered_vine_df.show()"
      ],
      "metadata": {
        "colab": {
          "base_uri": "https://localhost:8080/"
        },
        "id": "iv1L8E8qV5TR",
        "outputId": "dc5f9b97-79f5-43fd-fcf2-90d51d608e98"
      },
      "execution_count": 27,
      "outputs": [
        {
          "output_type": "stream",
          "name": "stdout",
          "text": [
            "+--------------+-----------+-------------+-----------+----+-----------------+-----------------+\n",
            "|     review_id|star_rating|helpful_votes|total_votes|vine|verified_purchase|  percent_helpful|\n",
            "+--------------+-----------+-------------+-----------+----+-----------------+-----------------+\n",
            "|R1VE0FQQ0QTQJN|          5|           16|         20|   N|                Y|             80.0|\n",
            "|R3MD5TZJGIPTDU|          5|           21|         31|   N|                N|67.74193548387096|\n",
            "| RX6OWUF8EFZ72|          5|           27|         28|   N|                N|96.42857142857143|\n",
            "|R1OPUF771LL5O5|          4|           27|         27|   N|                N|            100.0|\n",
            "|R3AW5JRZYH66M5|          1|          268|        307|   N|                N|87.29641693811075|\n",
            "|R2DXLNKF0EL4CI|          4|           24|         27|   N|                Y|88.88888888888889|\n",
            "|R12EHXBC0GP2C2|          5|           23|         24|   N|                N|95.83333333333334|\n",
            "|R2JSWNTAO83X3V|          5|          145|        184|   N|                N|78.80434782608695|\n",
            "|R3THZWOBS1086J|          5|           46|         47|   N|                N|97.87234042553192|\n",
            "|R160DHJPJ4B20R|          4|           28|         30|   N|                N|93.33333333333333|\n",
            "|R27UDFNE6MY1LO|          2|           15|         24|   N|                N|             62.5|\n",
            "|R34X92SSRBI0N4|          5|           26|         29|   N|                N|89.65517241379311|\n",
            "| RGTKXJ8P5O7LR|          4|           16|         21|   N|                N|76.19047619047619|\n",
            "|R1TK5Q90GGJSTN|          4|           59|         68|   N|                N|86.76470588235294|\n",
            "|R3E8UZOCG84HNO|          5|           18|         24|   N|                N|             75.0|\n",
            "|R33O2810BC4UR0|          5|          101|        103|   N|                Y|98.05825242718447|\n",
            "|R1M60NYB4UPRJ8|          5|           19|         24|   N|                N|79.16666666666666|\n",
            "|R38RXR8USISV94|          4|         1150|       1228|   N|                N|93.64820846905538|\n",
            "|R2E2KP6K6OUBEX|          5|           59|         60|   N|                N|98.33333333333333|\n",
            "|R3F583X11I1RP6|          1|           40|         43|   N|                N|93.02325581395348|\n",
            "+--------------+-----------+-------------+-----------+----+-----------------+-----------------+\n",
            "only showing top 20 rows\n",
            "\n"
          ]
        }
      ]
    },
    {
      "cell_type": "code",
      "source": [
        "vine_program_df = filtered_vine_df.filter(\"vine == 'Y'\")\n",
        "vine_program_df.show()"
      ],
      "metadata": {
        "colab": {
          "base_uri": "https://localhost:8080/"
        },
        "id": "ffH5jMGWWiSM",
        "outputId": "1bbbfc41-f3aa-4fa1-952b-c824adb992e6"
      },
      "execution_count": 28,
      "outputs": [
        {
          "output_type": "stream",
          "name": "stdout",
          "text": [
            "+---------+-----------+-------------+-----------+----+-----------------+---------------+\n",
            "|review_id|star_rating|helpful_votes|total_votes|vine|verified_purchase|percent_helpful|\n",
            "+---------+-----------+-------------+-----------+----+-----------------+---------------+\n",
            "+---------+-----------+-------------+-----------+----+-----------------+---------------+\n",
            "\n"
          ]
        }
      ]
    },
    {
      "cell_type": "code",
      "source": [
        "non_vine_program_df = filtered_vine_df.filter(\"vine == 'N'\")\n",
        "non_vine_program_df.show()"
      ],
      "metadata": {
        "colab": {
          "base_uri": "https://localhost:8080/"
        },
        "id": "htxOUaKsmMEd",
        "outputId": "83f817a4-9ec3-4fd1-94d5-57840ed7aca6"
      },
      "execution_count": 29,
      "outputs": [
        {
          "output_type": "stream",
          "name": "stdout",
          "text": [
            "+--------------+-----------+-------------+-----------+----+-----------------+-----------------+\n",
            "|     review_id|star_rating|helpful_votes|total_votes|vine|verified_purchase|  percent_helpful|\n",
            "+--------------+-----------+-------------+-----------+----+-----------------+-----------------+\n",
            "|R1VE0FQQ0QTQJN|          5|           16|         20|   N|                Y|             80.0|\n",
            "|R3MD5TZJGIPTDU|          5|           21|         31|   N|                N|67.74193548387096|\n",
            "| RX6OWUF8EFZ72|          5|           27|         28|   N|                N|96.42857142857143|\n",
            "|R1OPUF771LL5O5|          4|           27|         27|   N|                N|            100.0|\n",
            "|R3AW5JRZYH66M5|          1|          268|        307|   N|                N|87.29641693811075|\n",
            "|R2DXLNKF0EL4CI|          4|           24|         27|   N|                Y|88.88888888888889|\n",
            "|R12EHXBC0GP2C2|          5|           23|         24|   N|                N|95.83333333333334|\n",
            "|R2JSWNTAO83X3V|          5|          145|        184|   N|                N|78.80434782608695|\n",
            "|R3THZWOBS1086J|          5|           46|         47|   N|                N|97.87234042553192|\n",
            "|R160DHJPJ4B20R|          4|           28|         30|   N|                N|93.33333333333333|\n",
            "|R27UDFNE6MY1LO|          2|           15|         24|   N|                N|             62.5|\n",
            "|R34X92SSRBI0N4|          5|           26|         29|   N|                N|89.65517241379311|\n",
            "| RGTKXJ8P5O7LR|          4|           16|         21|   N|                N|76.19047619047619|\n",
            "|R1TK5Q90GGJSTN|          4|           59|         68|   N|                N|86.76470588235294|\n",
            "|R3E8UZOCG84HNO|          5|           18|         24|   N|                N|             75.0|\n",
            "|R33O2810BC4UR0|          5|          101|        103|   N|                Y|98.05825242718447|\n",
            "|R1M60NYB4UPRJ8|          5|           19|         24|   N|                N|79.16666666666666|\n",
            "|R38RXR8USISV94|          4|         1150|       1228|   N|                N|93.64820846905538|\n",
            "|R2E2KP6K6OUBEX|          5|           59|         60|   N|                N|98.33333333333333|\n",
            "|R3F583X11I1RP6|          1|           40|         43|   N|                N|93.02325581395348|\n",
            "+--------------+-----------+-------------+-----------+----+-----------------+-----------------+\n",
            "only showing top 20 rows\n",
            "\n"
          ]
        }
      ]
    },
    {
      "cell_type": "code",
      "source": [
        "# Count of non-vine program review\n",
        "non_vine_count = non_vine_program_df.count()\n",
        "print(non_vine_count)"
      ],
      "metadata": {
        "colab": {
          "base_uri": "https://localhost:8080/"
        },
        "id": "YjSyo2vanBMp",
        "outputId": "b980542a-f688-46ac-d626-5b85041f4ea9"
      },
      "execution_count": 30,
      "outputs": [
        {
          "output_type": "stream",
          "name": "stdout",
          "text": [
            "399745\n"
          ]
        }
      ]
    },
    {
      "cell_type": "code",
      "source": [
        "# Number of non-vine program 5-star reviews\n",
        "non_vine_5_count = non_vine_program_df.filter(\"star_rating=5\").count()\n",
        "print(non_vine_5_count)"
      ],
      "metadata": {
        "colab": {
          "base_uri": "https://localhost:8080/"
        },
        "id": "yIKSRqgZoCeD",
        "outputId": "4c51cb97-afd4-4574-af04-690dc44a8f22"
      },
      "execution_count": 31,
      "outputs": [
        {
          "output_type": "stream",
          "name": "stdout",
          "text": [
            "241836\n"
          ]
        }
      ]
    },
    {
      "cell_type": "code",
      "source": [
        "# Percentage of non-vine program 5-star reviews\n",
        "percentage_non_vine_5_count = (non_vine_5_count / non_vine_count) * 100\n",
        "print(percentage_non_vine_5_count)"
      ],
      "metadata": {
        "colab": {
          "base_uri": "https://localhost:8080/"
        },
        "id": "Oc59c2Rto6vT",
        "outputId": "04fd1461-7718-4431-e42f-2309d42b0365"
      },
      "execution_count": 32,
      "outputs": [
        {
          "output_type": "stream",
          "name": "stdout",
          "text": [
            "60.49756719908942\n"
          ]
        }
      ]
    },
    {
      "cell_type": "code",
      "source": [
        "# Count of vine program review\n",
        "vine_count = vine_program_df.count()\n",
        "print(vine_count)"
      ],
      "metadata": {
        "colab": {
          "base_uri": "https://localhost:8080/"
        },
        "id": "_oBrLk1cpOS9",
        "outputId": "d845e75b-24a8-4e59-deb1-b922538c3c16"
      },
      "execution_count": 33,
      "outputs": [
        {
          "output_type": "stream",
          "name": "stdout",
          "text": [
            "0\n"
          ]
        }
      ]
    },
    {
      "cell_type": "code",
      "source": [
        "# Number of vine program 5-star reviews\n",
        "vine_5_count = vine_program_df.filter(\"star_rating=5\").count()\n",
        "print(vine_5_count)"
      ],
      "metadata": {
        "colab": {
          "base_uri": "https://localhost:8080/"
        },
        "id": "Ej8_EpOtpUWU",
        "outputId": "ecc10dfc-9155-4b70-88af-ebd2d33ac3ea"
      },
      "execution_count": 34,
      "outputs": [
        {
          "output_type": "stream",
          "name": "stdout",
          "text": [
            "0\n"
          ]
        }
      ]
    },
    {
      "cell_type": "code",
      "source": [
        "# Percentage of vine program 5-star reviews"
      ],
      "metadata": {
        "id": "UleFbkNZpYuZ"
      },
      "execution_count": 35,
      "outputs": []
    }
  ]
}